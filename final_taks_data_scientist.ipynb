{
  "cells": [
    {
      "cell_type": "markdown",
      "metadata": {
        "id": "UV4XOlT8cPTU"
      },
      "source": [
        "# Credit Risk Assessment\n",
        "## Final Project-Based Virtual Intern: Data Scientist ID/X Partners x Rakamin Academy\n",
        "\n",
        "by Galih Rakasiwi"
      ]
    },
    {
      "cell_type": "markdown",
      "metadata": {
        "id": "-FcOV0iplxYS"
      },
      "source": [
        "# Import Libraries & Load Dataset"
      ]
    },
    {
      "cell_type": "code",
      "execution_count": null,
      "metadata": {
        "id": "OGcrpb1EcDjH"
      },
      "outputs": [],
      "source": [
        "# Import Libraries\n",
        "import pandas as pd\n",
        "import numpy as np\n",
        "import matplotlib.pyplot as plt\n",
        "import seaborn as sns\n",
        "from sklearn.model_selection import train_test_split, GridSearchCV\n",
        "from sklearn.preprocessing import StandardScaler, LabelEncoder\n",
        "from sklearn.linear_model import LogisticRegression\n",
        "from sklearn.ensemble import RandomForestClassifier\n",
        "from sklearn.preprocessing import LabelEncoder\n",
        "import matplotlib as mpl\n",
        "from sklearn.preprocessing import PowerTransformer\n",
        "from scipy.stats import zscore, boxcox\n",
        "from sklearn.model_selection import GridSearchCV, RandomizedSearchCV\n",
        "from sklearn.metrics import accuracy_score, precision_score, recall_score, f1_score, roc_auc_score, confusion_matrix, classification_report"
      ]
    },
    {
      "cell_type": "code",
      "execution_count": null,
      "metadata": {
        "id": "Lb29eDq0lwVk"
      },
      "outputs": [],
      "source": [
        "# Load Dataset\n",
        "df = pd.read_csv('loan_data_2007_2014.csv')"
      ]
    },
    {
      "cell_type": "markdown",
      "metadata": {
        "id": "DGargbYTl5iC"
      },
      "source": [
        "# Data Understanding"
      ]
    },
    {
      "cell_type": "code",
      "execution_count": null,
      "metadata": {
        "colab": {
          "background_save": true
        },
        "id": "zfpGaisPl3O8",
        "outputId": "99d62246-4ba4-4476-cc68-dc2703c88591"
      },
      "outputs": [
        {
          "data": {
            "application/vnd.google.colaboratory.intrinsic+json": {
              "type": "dataframe",
              "variable_name": "df"
            },
            "text/html": [
              "\n",
              "  <div id=\"df-f8affcd0-d202-473c-81e5-a09123ab97d1\" class=\"colab-df-container\">\n",
              "    <div>\n",
              "<style scoped>\n",
              "    .dataframe tbody tr th:only-of-type {\n",
              "        vertical-align: middle;\n",
              "    }\n",
              "\n",
              "    .dataframe tbody tr th {\n",
              "        vertical-align: top;\n",
              "    }\n",
              "\n",
              "    .dataframe thead th {\n",
              "        text-align: right;\n",
              "    }\n",
              "</style>\n",
              "<table border=\"1\" class=\"dataframe\">\n",
              "  <thead>\n",
              "    <tr style=\"text-align: right;\">\n",
              "      <th></th>\n",
              "      <th>Unnamed: 0</th>\n",
              "      <th>id</th>\n",
              "      <th>member_id</th>\n",
              "      <th>loan_amnt</th>\n",
              "      <th>funded_amnt</th>\n",
              "      <th>funded_amnt_inv</th>\n",
              "      <th>term</th>\n",
              "      <th>int_rate</th>\n",
              "      <th>installment</th>\n",
              "      <th>grade</th>\n",
              "      <th>...</th>\n",
              "      <th>total_bal_il</th>\n",
              "      <th>il_util</th>\n",
              "      <th>open_rv_12m</th>\n",
              "      <th>open_rv_24m</th>\n",
              "      <th>max_bal_bc</th>\n",
              "      <th>all_util</th>\n",
              "      <th>total_rev_hi_lim</th>\n",
              "      <th>inq_fi</th>\n",
              "      <th>total_cu_tl</th>\n",
              "      <th>inq_last_12m</th>\n",
              "    </tr>\n",
              "  </thead>\n",
              "  <tbody>\n",
              "    <tr>\n",
              "      <th>0</th>\n",
              "      <td>0</td>\n",
              "      <td>1077501</td>\n",
              "      <td>1296599</td>\n",
              "      <td>5000</td>\n",
              "      <td>5000</td>\n",
              "      <td>4975.0</td>\n",
              "      <td>36 months</td>\n",
              "      <td>10.65</td>\n",
              "      <td>162.87</td>\n",
              "      <td>B</td>\n",
              "      <td>...</td>\n",
              "      <td>NaN</td>\n",
              "      <td>NaN</td>\n",
              "      <td>NaN</td>\n",
              "      <td>NaN</td>\n",
              "      <td>NaN</td>\n",
              "      <td>NaN</td>\n",
              "      <td>NaN</td>\n",
              "      <td>NaN</td>\n",
              "      <td>NaN</td>\n",
              "      <td>NaN</td>\n",
              "    </tr>\n",
              "    <tr>\n",
              "      <th>1</th>\n",
              "      <td>1</td>\n",
              "      <td>1077430</td>\n",
              "      <td>1314167</td>\n",
              "      <td>2500</td>\n",
              "      <td>2500</td>\n",
              "      <td>2500.0</td>\n",
              "      <td>60 months</td>\n",
              "      <td>15.27</td>\n",
              "      <td>59.83</td>\n",
              "      <td>C</td>\n",
              "      <td>...</td>\n",
              "      <td>NaN</td>\n",
              "      <td>NaN</td>\n",
              "      <td>NaN</td>\n",
              "      <td>NaN</td>\n",
              "      <td>NaN</td>\n",
              "      <td>NaN</td>\n",
              "      <td>NaN</td>\n",
              "      <td>NaN</td>\n",
              "      <td>NaN</td>\n",
              "      <td>NaN</td>\n",
              "    </tr>\n",
              "    <tr>\n",
              "      <th>2</th>\n",
              "      <td>2</td>\n",
              "      <td>1077175</td>\n",
              "      <td>1313524</td>\n",
              "      <td>2400</td>\n",
              "      <td>2400</td>\n",
              "      <td>2400.0</td>\n",
              "      <td>36 months</td>\n",
              "      <td>15.96</td>\n",
              "      <td>84.33</td>\n",
              "      <td>C</td>\n",
              "      <td>...</td>\n",
              "      <td>NaN</td>\n",
              "      <td>NaN</td>\n",
              "      <td>NaN</td>\n",
              "      <td>NaN</td>\n",
              "      <td>NaN</td>\n",
              "      <td>NaN</td>\n",
              "      <td>NaN</td>\n",
              "      <td>NaN</td>\n",
              "      <td>NaN</td>\n",
              "      <td>NaN</td>\n",
              "    </tr>\n",
              "    <tr>\n",
              "      <th>3</th>\n",
              "      <td>3</td>\n",
              "      <td>1076863</td>\n",
              "      <td>1277178</td>\n",
              "      <td>10000</td>\n",
              "      <td>10000</td>\n",
              "      <td>10000.0</td>\n",
              "      <td>36 months</td>\n",
              "      <td>13.49</td>\n",
              "      <td>339.31</td>\n",
              "      <td>C</td>\n",
              "      <td>...</td>\n",
              "      <td>NaN</td>\n",
              "      <td>NaN</td>\n",
              "      <td>NaN</td>\n",
              "      <td>NaN</td>\n",
              "      <td>NaN</td>\n",
              "      <td>NaN</td>\n",
              "      <td>NaN</td>\n",
              "      <td>NaN</td>\n",
              "      <td>NaN</td>\n",
              "      <td>NaN</td>\n",
              "    </tr>\n",
              "    <tr>\n",
              "      <th>4</th>\n",
              "      <td>4</td>\n",
              "      <td>1075358</td>\n",
              "      <td>1311748</td>\n",
              "      <td>3000</td>\n",
              "      <td>3000</td>\n",
              "      <td>3000.0</td>\n",
              "      <td>60 months</td>\n",
              "      <td>12.69</td>\n",
              "      <td>67.79</td>\n",
              "      <td>B</td>\n",
              "      <td>...</td>\n",
              "      <td>NaN</td>\n",
              "      <td>NaN</td>\n",
              "      <td>NaN</td>\n",
              "      <td>NaN</td>\n",
              "      <td>NaN</td>\n",
              "      <td>NaN</td>\n",
              "      <td>NaN</td>\n",
              "      <td>NaN</td>\n",
              "      <td>NaN</td>\n",
              "      <td>NaN</td>\n",
              "    </tr>\n",
              "  </tbody>\n",
              "</table>\n",
              "<p>5 rows × 75 columns</p>\n",
              "</div>\n",
              "    <div class=\"colab-df-buttons\">\n",
              "\n",
              "  <div class=\"colab-df-container\">\n",
              "    <button class=\"colab-df-convert\" onclick=\"convertToInteractive('df-f8affcd0-d202-473c-81e5-a09123ab97d1')\"\n",
              "            title=\"Convert this dataframe to an interactive table.\"\n",
              "            style=\"display:none;\">\n",
              "\n",
              "  <svg xmlns=\"http://www.w3.org/2000/svg\" height=\"24px\" viewBox=\"0 -960 960 960\">\n",
              "    <path d=\"M120-120v-720h720v720H120Zm60-500h600v-160H180v160Zm220 220h160v-160H400v160Zm0 220h160v-160H400v160ZM180-400h160v-160H180v160Zm440 0h160v-160H620v160ZM180-180h160v-160H180v160Zm440 0h160v-160H620v160Z\"/>\n",
              "  </svg>\n",
              "    </button>\n",
              "\n",
              "  <style>\n",
              "    .colab-df-container {\n",
              "      display:flex;\n",
              "      gap: 12px;\n",
              "    }\n",
              "\n",
              "    .colab-df-convert {\n",
              "      background-color: #E8F0FE;\n",
              "      border: none;\n",
              "      border-radius: 50%;\n",
              "      cursor: pointer;\n",
              "      display: none;\n",
              "      fill: #1967D2;\n",
              "      height: 32px;\n",
              "      padding: 0 0 0 0;\n",
              "      width: 32px;\n",
              "    }\n",
              "\n",
              "    .colab-df-convert:hover {\n",
              "      background-color: #E2EBFA;\n",
              "      box-shadow: 0px 1px 2px rgba(60, 64, 67, 0.3), 0px 1px 3px 1px rgba(60, 64, 67, 0.15);\n",
              "      fill: #174EA6;\n",
              "    }\n",
              "\n",
              "    .colab-df-buttons div {\n",
              "      margin-bottom: 4px;\n",
              "    }\n",
              "\n",
              "    [theme=dark] .colab-df-convert {\n",
              "      background-color: #3B4455;\n",
              "      fill: #D2E3FC;\n",
              "    }\n",
              "\n",
              "    [theme=dark] .colab-df-convert:hover {\n",
              "      background-color: #434B5C;\n",
              "      box-shadow: 0px 1px 3px 1px rgba(0, 0, 0, 0.15);\n",
              "      filter: drop-shadow(0px 1px 2px rgba(0, 0, 0, 0.3));\n",
              "      fill: #FFFFFF;\n",
              "    }\n",
              "  </style>\n",
              "\n",
              "    <script>\n",
              "      const buttonEl =\n",
              "        document.querySelector('#df-f8affcd0-d202-473c-81e5-a09123ab97d1 button.colab-df-convert');\n",
              "      buttonEl.style.display =\n",
              "        google.colab.kernel.accessAllowed ? 'block' : 'none';\n",
              "\n",
              "      async function convertToInteractive(key) {\n",
              "        const element = document.querySelector('#df-f8affcd0-d202-473c-81e5-a09123ab97d1');\n",
              "        const dataTable =\n",
              "          await google.colab.kernel.invokeFunction('convertToInteractive',\n",
              "                                                    [key], {});\n",
              "        if (!dataTable) return;\n",
              "\n",
              "        const docLinkHtml = 'Like what you see? Visit the ' +\n",
              "          '<a target=\"_blank\" href=https://colab.research.google.com/notebooks/data_table.ipynb>data table notebook</a>'\n",
              "          + ' to learn more about interactive tables.';\n",
              "        element.innerHTML = '';\n",
              "        dataTable['output_type'] = 'display_data';\n",
              "        await google.colab.output.renderOutput(dataTable, element);\n",
              "        const docLink = document.createElement('div');\n",
              "        docLink.innerHTML = docLinkHtml;\n",
              "        element.appendChild(docLink);\n",
              "      }\n",
              "    </script>\n",
              "  </div>\n",
              "\n",
              "\n",
              "<div id=\"df-74077b45-3c5d-4380-89cb-f9822f1d2ed1\">\n",
              "  <button class=\"colab-df-quickchart\" onclick=\"quickchart('df-74077b45-3c5d-4380-89cb-f9822f1d2ed1')\"\n",
              "            title=\"Suggest charts\"\n",
              "            style=\"display:none;\">\n",
              "\n",
              "<svg xmlns=\"http://www.w3.org/2000/svg\" height=\"24px\"viewBox=\"0 0 24 24\"\n",
              "     width=\"24px\">\n",
              "    <g>\n",
              "        <path d=\"M19 3H5c-1.1 0-2 .9-2 2v14c0 1.1.9 2 2 2h14c1.1 0 2-.9 2-2V5c0-1.1-.9-2-2-2zM9 17H7v-7h2v7zm4 0h-2V7h2v10zm4 0h-2v-4h2v4z\"/>\n",
              "    </g>\n",
              "</svg>\n",
              "  </button>\n",
              "\n",
              "<style>\n",
              "  .colab-df-quickchart {\n",
              "      --bg-color: #E8F0FE;\n",
              "      --fill-color: #1967D2;\n",
              "      --hover-bg-color: #E2EBFA;\n",
              "      --hover-fill-color: #174EA6;\n",
              "      --disabled-fill-color: #AAA;\n",
              "      --disabled-bg-color: #DDD;\n",
              "  }\n",
              "\n",
              "  [theme=dark] .colab-df-quickchart {\n",
              "      --bg-color: #3B4455;\n",
              "      --fill-color: #D2E3FC;\n",
              "      --hover-bg-color: #434B5C;\n",
              "      --hover-fill-color: #FFFFFF;\n",
              "      --disabled-bg-color: #3B4455;\n",
              "      --disabled-fill-color: #666;\n",
              "  }\n",
              "\n",
              "  .colab-df-quickchart {\n",
              "    background-color: var(--bg-color);\n",
              "    border: none;\n",
              "    border-radius: 50%;\n",
              "    cursor: pointer;\n",
              "    display: none;\n",
              "    fill: var(--fill-color);\n",
              "    height: 32px;\n",
              "    padding: 0;\n",
              "    width: 32px;\n",
              "  }\n",
              "\n",
              "  .colab-df-quickchart:hover {\n",
              "    background-color: var(--hover-bg-color);\n",
              "    box-shadow: 0 1px 2px rgba(60, 64, 67, 0.3), 0 1px 3px 1px rgba(60, 64, 67, 0.15);\n",
              "    fill: var(--button-hover-fill-color);\n",
              "  }\n",
              "\n",
              "  .colab-df-quickchart-complete:disabled,\n",
              "  .colab-df-quickchart-complete:disabled:hover {\n",
              "    background-color: var(--disabled-bg-color);\n",
              "    fill: var(--disabled-fill-color);\n",
              "    box-shadow: none;\n",
              "  }\n",
              "\n",
              "  .colab-df-spinner {\n",
              "    border: 2px solid var(--fill-color);\n",
              "    border-color: transparent;\n",
              "    border-bottom-color: var(--fill-color);\n",
              "    animation:\n",
              "      spin 1s steps(1) infinite;\n",
              "  }\n",
              "\n",
              "  @keyframes spin {\n",
              "    0% {\n",
              "      border-color: transparent;\n",
              "      border-bottom-color: var(--fill-color);\n",
              "      border-left-color: var(--fill-color);\n",
              "    }\n",
              "    20% {\n",
              "      border-color: transparent;\n",
              "      border-left-color: var(--fill-color);\n",
              "      border-top-color: var(--fill-color);\n",
              "    }\n",
              "    30% {\n",
              "      border-color: transparent;\n",
              "      border-left-color: var(--fill-color);\n",
              "      border-top-color: var(--fill-color);\n",
              "      border-right-color: var(--fill-color);\n",
              "    }\n",
              "    40% {\n",
              "      border-color: transparent;\n",
              "      border-right-color: var(--fill-color);\n",
              "      border-top-color: var(--fill-color);\n",
              "    }\n",
              "    60% {\n",
              "      border-color: transparent;\n",
              "      border-right-color: var(--fill-color);\n",
              "    }\n",
              "    80% {\n",
              "      border-color: transparent;\n",
              "      border-right-color: var(--fill-color);\n",
              "      border-bottom-color: var(--fill-color);\n",
              "    }\n",
              "    90% {\n",
              "      border-color: transparent;\n",
              "      border-bottom-color: var(--fill-color);\n",
              "    }\n",
              "  }\n",
              "</style>\n",
              "\n",
              "  <script>\n",
              "    async function quickchart(key) {\n",
              "      const quickchartButtonEl =\n",
              "        document.querySelector('#' + key + ' button');\n",
              "      quickchartButtonEl.disabled = true;  // To prevent multiple clicks.\n",
              "      quickchartButtonEl.classList.add('colab-df-spinner');\n",
              "      try {\n",
              "        const charts = await google.colab.kernel.invokeFunction(\n",
              "            'suggestCharts', [key], {});\n",
              "      } catch (error) {\n",
              "        console.error('Error during call to suggestCharts:', error);\n",
              "      }\n",
              "      quickchartButtonEl.classList.remove('colab-df-spinner');\n",
              "      quickchartButtonEl.classList.add('colab-df-quickchart-complete');\n",
              "    }\n",
              "    (() => {\n",
              "      let quickchartButtonEl =\n",
              "        document.querySelector('#df-74077b45-3c5d-4380-89cb-f9822f1d2ed1 button');\n",
              "      quickchartButtonEl.style.display =\n",
              "        google.colab.kernel.accessAllowed ? 'block' : 'none';\n",
              "    })();\n",
              "  </script>\n",
              "</div>\n",
              "\n",
              "    </div>\n",
              "  </div>\n"
            ],
            "text/plain": [
              "   Unnamed: 0       id  member_id  loan_amnt  funded_amnt  funded_amnt_inv  \\\n",
              "0           0  1077501    1296599       5000         5000           4975.0   \n",
              "1           1  1077430    1314167       2500         2500           2500.0   \n",
              "2           2  1077175    1313524       2400         2400           2400.0   \n",
              "3           3  1076863    1277178      10000        10000          10000.0   \n",
              "4           4  1075358    1311748       3000         3000           3000.0   \n",
              "\n",
              "         term  int_rate  installment grade  ... total_bal_il il_util  \\\n",
              "0   36 months     10.65       162.87     B  ...          NaN     NaN   \n",
              "1   60 months     15.27        59.83     C  ...          NaN     NaN   \n",
              "2   36 months     15.96        84.33     C  ...          NaN     NaN   \n",
              "3   36 months     13.49       339.31     C  ...          NaN     NaN   \n",
              "4   60 months     12.69        67.79     B  ...          NaN     NaN   \n",
              "\n",
              "  open_rv_12m open_rv_24m  max_bal_bc all_util total_rev_hi_lim inq_fi  \\\n",
              "0         NaN         NaN         NaN      NaN              NaN    NaN   \n",
              "1         NaN         NaN         NaN      NaN              NaN    NaN   \n",
              "2         NaN         NaN         NaN      NaN              NaN    NaN   \n",
              "3         NaN         NaN         NaN      NaN              NaN    NaN   \n",
              "4         NaN         NaN         NaN      NaN              NaN    NaN   \n",
              "\n",
              "  total_cu_tl inq_last_12m  \n",
              "0         NaN          NaN  \n",
              "1         NaN          NaN  \n",
              "2         NaN          NaN  \n",
              "3         NaN          NaN  \n",
              "4         NaN          NaN  \n",
              "\n",
              "[5 rows x 75 columns]"
            ]
          },
          "execution_count": 3,
          "metadata": {},
          "output_type": "execute_result"
        }
      ],
      "source": [
        "df.head()"
      ]
    },
    {
      "cell_type": "code",
      "execution_count": null,
      "metadata": {
        "id": "ZC1P62F0l8tH"
      },
      "outputs": [],
      "source": [
        "df.info()"
      ]
    },
    {
      "cell_type": "code",
      "execution_count": null,
      "metadata": {
        "id": "PBXvHNMkl-Oc"
      },
      "outputs": [],
      "source": [
        "print(\"\\nJumlah Baris dan Kolom:\", df.shape)"
      ]
    },
    {
      "cell_type": "code",
      "execution_count": null,
      "metadata": {
        "id": "tPNKhj3gmArP"
      },
      "outputs": [],
      "source": [
        "df.describe()"
      ]
    },
    {
      "cell_type": "code",
      "execution_count": null,
      "metadata": {
        "id": "A5kD2BNFncuS"
      },
      "outputs": [],
      "source": [
        "df.duplicated().sum()"
      ]
    },
    {
      "cell_type": "markdown",
      "metadata": {
        "id": "3r75rSRmmGbZ"
      },
      "source": [
        "## Handling Missing Values"
      ]
    },
    {
      "cell_type": "code",
      "execution_count": null,
      "metadata": {
        "id": "5GIrdxpYmQHf"
      },
      "outputs": [],
      "source": [
        "# mengecek missing values keseluruhan\n",
        "df.isnull().sum().sum()"
      ]
    },
    {
      "cell_type": "code",
      "execution_count": null,
      "metadata": {
        "id": "jVPjlubZmCpG"
      },
      "outputs": [],
      "source": [
        "# Menghitung persen missing values\n",
        "missing_values = df.isnull().sum() / len(df) * 100\n",
        "missing_values = missing_values[missing_values > 0].sort_values(ascending=False)\n",
        "\n",
        "# Menampilkan kolom dengan missing values\n",
        "print(\"\\nPersentase Missing Values dalam Dataset:\\n\")\n",
        "print(missing_values)"
      ]
    },
    {
      "cell_type": "code",
      "execution_count": null,
      "metadata": {
        "id": "RmktZ6OgmMhr"
      },
      "outputs": [],
      "source": [
        "# Menghapus kolom dengan missing values > 50%\n",
        "threshold = 50\n",
        "cols_to_drop = missing_values[missing_values > threshold].index.tolist()\n",
        "df.drop(columns=cols_to_drop, inplace=True)\n",
        "\n",
        "print(f\"\\nKolom dihapus karena missing lebih dari {threshold}%:\\n\", cols_to_drop)"
      ]
    },
    {
      "cell_type": "code",
      "execution_count": null,
      "metadata": {
        "id": "hhiixswPmdbq"
      },
      "outputs": [],
      "source": [
        "# Menangani missing values pada kolom yang tersisa\n",
        "for col in df.columns:\n",
        "    if df[col].isnull().sum() > 0:\n",
        "        if df[col].dtype == 'object':\n",
        "            df[col].fillna(df[col].mode()[0], inplace=True)\n",
        "        else:\n",
        "            df[col].fillna(df[col].median(), inplace=True)\n",
        "\n",
        "# Verifikasi hasil\n",
        "print(\"\\nMissing values setelah penanganan:\\n\")\n",
        "print(df.isnull().sum())"
      ]
    },
    {
      "cell_type": "markdown",
      "metadata": {
        "id": "PMvEEtptmjck"
      },
      "source": [
        "## Cleaning Data"
      ]
    },
    {
      "cell_type": "code",
      "execution_count": null,
      "metadata": {
        "id": "gv43fFyNmhNT"
      },
      "outputs": [],
      "source": [
        "columns_to_drop = [\n",
        "    'Unnamed: 0','id', 'member_id', 'url', 'desc', 'title', 'zip_code', 'out_prncp', 'out_prncp_inv',\n",
        "    'annual_inc_joint', 'dti_joint', 'verification_status_joint'\n",
        "]\n",
        "\n",
        "df.drop(columns=columns_to_drop, errors='ignore', inplace=True)"
      ]
    },
    {
      "cell_type": "code",
      "execution_count": null,
      "metadata": {
        "id": "epz4ofEqmlmz"
      },
      "outputs": [],
      "source": [
        "df.info()"
      ]
    },
    {
      "cell_type": "code",
      "execution_count": null,
      "metadata": {
        "id": "RgD11nZIIx9e"
      },
      "outputs": [],
      "source": [
        "df.shape"
      ]
    },
    {
      "cell_type": "markdown",
      "metadata": {
        "id": "x53Xv0kDrX2w"
      },
      "source": [
        "# Exploratory Data Analysis (EDA)"
      ]
    },
    {
      "cell_type": "markdown",
      "metadata": {
        "id": "YW3rgYH5raLt"
      },
      "source": [
        "## Visualisasi Univariat"
      ]
    },
    {
      "cell_type": "code",
      "execution_count": null,
      "metadata": {
        "id": "q7raJOtJtBWk"
      },
      "outputs": [],
      "source": [
        "# Distribusi Fitur Kategorikal\n",
        "categorical_features = [\"term\", \"grade\", \"home_ownership\", \"verification_status\", \"loan_status\", \"purpose\"]\n",
        "\n",
        "plt.figure(figsize=(15, 10))\n",
        "for i, col in enumerate(categorical_features, 1):\n",
        "    plt.subplot(3, 3, i)\n",
        "    sns.countplot(y=df[col], order=df[col].value_counts().index)\n",
        "    plt.title(f\"Distribusi {col}\")\n",
        "    plt.xlabel(\"Jumlah\")\n",
        "plt.tight_layout()\n",
        "plt.show()"
      ]
    },
    {
      "cell_type": "code",
      "execution_count": null,
      "metadata": {
        "id": "xkmuFfZdtHHn"
      },
      "outputs": [],
      "source": [
        "# Distribusi Variabel Numerik\n",
        "numerical_features = [\"loan_amnt\", \"funded_amnt\", \"int_rate\", \"annual_inc\", \"dti\", \"total_pymnt\", \"total_rec_int\"]\n",
        "\n",
        "plt.figure(figsize=(15, 10))\n",
        "for i, col in enumerate(numerical_features, 1):\n",
        "    plt.subplot(3, 3, i)\n",
        "    sns.histplot(df[col], kde=True, bins=30, color=\"blue\")\n",
        "    plt.title(f\"Distribusi {col}\")\n",
        "plt.tight_layout()\n",
        "plt.show()\n"
      ]
    },
    {
      "cell_type": "code",
      "execution_count": null,
      "metadata": {
        "id": "v8ONG9rtsbnk"
      },
      "outputs": [],
      "source": [
        "# Distribusi Target Variabel: Loan Status\n",
        "plt.figure(figsize=(15, 8))\n",
        "sns.countplot(data=df, y='loan_status')\n",
        "plt.xlabel('count')\n",
        "plt.ylabel('loan_status')\n",
        "plt.title(\"Target variable distribution\")\n",
        "plt.show()"
      ]
    },
    {
      "cell_type": "markdown",
      "metadata": {
        "id": "kJgOaNjtsVlF"
      },
      "source": [
        "# Visualisasi Bivariet"
      ]
    },
    {
      "cell_type": "code",
      "execution_count": null,
      "metadata": {
        "id": "Hurba4eVsYc4"
      },
      "outputs": [],
      "source": [
        "# Korelasi Antar Fitur Menggunakan Heatmap\n",
        "num = df.select_dtypes(include=['number'])\n",
        "\n",
        "corr_matrix = num.corr()\n",
        "\n",
        "plt.figure(figsize=(30, 20))\n",
        "sns.heatmap(corr_matrix, annot=True, cmap='coolwarm', fmt='.2f', linewidths=0.5)\n",
        "\n",
        "plt.title('Correlation Heatmap', fontsize=16, fontweight='bold')\n",
        "plt.xticks(rotation=90)\n",
        "plt.yticks(rotation=0)\n",
        "\n",
        "plt.show()"
      ]
    },
    {
      "cell_type": "code",
      "execution_count": null,
      "metadata": {
        "id": "OCK5mvLmsf9S"
      },
      "outputs": [],
      "source": [
        "# Hubungan antara Loan Amount dan Annual Income\n",
        "plt.figure(figsize=(8, 6))\n",
        "sns.scatterplot(x=df[\"loan_amnt\"], y=df[\"annual_inc\"], alpha=0.5)\n",
        "plt.title(\"Hubungan antara Loan Amount dan Annual Income\", fontsize=14)\n",
        "plt.xlabel(\"Loan Amount\")\n",
        "plt.ylabel(\"Annual Income\")\n",
        "plt.show()"
      ]
    },
    {
      "cell_type": "code",
      "execution_count": null,
      "metadata": {
        "id": "duJ5wE1OsnBS"
      },
      "outputs": [],
      "source": [
        "# Distribusi Fitur Numerik Berdasarkan Loan Status\n",
        "target = 'loan_status'\n",
        "plt.figure(figsize=(15, 10))\n",
        "for i, col in enumerate(numerical_features[:9], 1):\n",
        "    plt.subplot(3, 3, i)\n",
        "    sns.boxplot(x=df[target], y=df[col])\n",
        "    plt.title(f\"Box Plot of {col} by {target}\")\n",
        "plt.tight_layout()\n",
        "plt.show()"
      ]
    },
    {
      "cell_type": "markdown",
      "metadata": {
        "id": "y6weSwGImqpc"
      },
      "source": [
        "# Data Preparation"
      ]
    },
    {
      "cell_type": "markdown",
      "metadata": {
        "id": "qh7ipuQ4m5I2"
      },
      "source": [
        "## Feature Enginnering"
      ]
    },
    {
      "cell_type": "code",
      "execution_count": null,
      "metadata": {
        "id": "aUXMUaVqmnfh"
      },
      "outputs": [],
      "source": [
        "# 1. Konversi term menjadi numerik (dari \"36 months\" atau \"60 months\" menjadi 3 dan 5 tahun)\n",
        "df['term'] = df['term'].str.extract('(\\d+)').astype(int) / 12\n",
        "\n",
        "# 2. Rasio Pendapatan terhadap Pinjaman (Income to Loan Ratio)\n",
        "df['income_to_loan_ratio'] = df['annual_inc'] / df['loan_amnt']\n",
        "\n",
        "# 3. Rasio Angsuran terhadap Pendapatan (Installment to Income Ratio)\n",
        "df['installment_to_income_ratio'] = df['installment'] / (df['annual_inc'] / 12)\n",
        "\n",
        "# 4. Binarisasi lama masa kerja (emp_length), 1 jika lebih dari 2 tahun, 0 jika kurang\n",
        "df['emp_length'] = df['emp_length'].replace({'< 1 year': '0', '10+ years': '10'}).str.extract('(\\d+)').astype(float)\n",
        "df['emp_length'] = (df['emp_length'] > 2).astype(int)\n",
        "\n",
        "# 5. Konversi Grade menjadi numerik (A-G menjadi 1-7)\n",
        "grade_mapping = {'A': 1, 'B': 2, 'C': 3, 'D': 4, 'E': 5, 'F': 6, 'G': 7}\n",
        "df['grade'] = df['grade'].map(grade_mapping)"
      ]
    },
    {
      "cell_type": "code",
      "execution_count": null,
      "metadata": {
        "id": "dUEJupTWm9fp"
      },
      "outputs": [],
      "source": [
        "print(\"\\nDataset setelah Feature Engineering:\\n\")\n",
        "df.head()"
      ]
    },
    {
      "cell_type": "markdown",
      "metadata": {
        "id": "zhxTUqyPXO7M"
      },
      "source": [
        "## Handling Skewness & Outliers"
      ]
    },
    {
      "cell_type": "code",
      "execution_count": null,
      "metadata": {
        "id": "0eA0PCwXb9IP"
      },
      "outputs": [],
      "source": [
        "# Hanya kolom numerik\n",
        "numerical_features = df.select_dtypes(include=['number']).columns"
      ]
    },
    {
      "cell_type": "code",
      "execution_count": null,
      "metadata": {
        "id": "v1iqfsp8dhTa"
      },
      "outputs": [],
      "source": [
        "# Deteksi Outliers dengan IQR\n",
        "def detect_outliers_iqr(df):\n",
        "    outliers = {}\n",
        "    for col in numerical_features:\n",
        "        Q1 = df[col].quantile(0.25)\n",
        "        Q3 = df[col].quantile(0.75)\n",
        "        IQR = Q3 - Q1\n",
        "        lower_bound = Q1 - 1.5 * IQR\n",
        "        upper_bound = Q3 + 1.5 * IQR\n",
        "        outliers[col] = ((df[col] < lower_bound) | (df[col] > upper_bound)).sum()\n",
        "    return outliers\n",
        "\n",
        "outliers_iqr = detect_outliers_iqr(df)\n",
        "print(\"\\nJumlah Outliers per Kolom (IQR Method):\\n\", outliers_iqr)"
      ]
    },
    {
      "cell_type": "code",
      "execution_count": null,
      "metadata": {
        "id": "LjF0O2K4ee5U"
      },
      "outputs": [],
      "source": [
        "# Deteksi Outliers dengan Z-Score\n",
        "def detect_outliers_zscore(df, threshold=3):\n",
        "    z_scores = df[numerical_features].apply(zscore)\n",
        "    outliers = (z_scores.abs() > threshold).sum()\n",
        "    return outliers\n",
        "\n",
        "outliers_zscore = detect_outliers_zscore(df)\n",
        "print(\"\\nJumlah Outliers per Kolom (Z-Score Method):\\n\", outliers_zscore)"
      ]
    },
    {
      "cell_type": "code",
      "execution_count": null,
      "metadata": {
        "id": "dUGYZE1ienLw"
      },
      "outputs": [],
      "source": [
        "# Visualisasi Outliers dengan Boxplot\n",
        "plt.figure(figsize=(15, 8))\n",
        "df[numerical_features].boxplot(rot=90)\n",
        "plt.title(\"Boxplot untuk Deteksi Outliers\")\n",
        "plt.show()"
      ]
    },
    {
      "cell_type": "code",
      "execution_count": null,
      "metadata": {
        "id": "sAyZ8Tjd5HT8"
      },
      "outputs": [],
      "source": [
        "# Fungsi untuk menangani skewness\n",
        "def handle_skewness(df, threshold=0.5, use_yeo_johnson=False):\n",
        "    numerical_df = df.select_dtypes(include=['number'])\n",
        "    skewness = numerical_df.skew()\n",
        "    skewed_features = skewness[abs(skewness) > threshold].index\n",
        "\n",
        "    print(\"Skewness Before Transformation:\")\n",
        "    print(skewness[skewed_features])\n",
        "\n",
        "    for col in skewed_features:\n",
        "        if use_yeo_johnson:\n",
        "            # Menggunakan Yeo-Johnson Transformation\n",
        "            pt = PowerTransformer(method='yeo-johnson')\n",
        "            df[[col]] = pt.fit_transform(df[[col]])\n",
        "        else:\n",
        "            if df[col].min() > 0:\n",
        "                if skewness[col] > 1:\n",
        "                    df[col] = np.log1p(df[col])  # Log Transform\n",
        "                else:\n",
        "                    df[col] = np.cbrt(df[col])  # Cube Root\n",
        "            else:\n",
        "                df[col] = np.cbrt(df[col])  # Cube Root untuk nilai negatif\n",
        "\n",
        "    # Hitung skewness setelah transformasi\n",
        "    new_skewness = df[numerical_df.columns].skew()\n",
        "    print(\"\\nSkewness After Transformation:\")\n",
        "    print(new_skewness[skewed_features])\n",
        "\n",
        "    return df"
      ]
    },
    {
      "cell_type": "markdown",
      "metadata": {
        "id": "MMeVdIjk4whH"
      },
      "source": [
        "## Transformasi Data dan Encoding untuk Prediksi Status Pinjaman"
      ]
    },
    {
      "cell_type": "code",
      "execution_count": null,
      "metadata": {
        "id": "fwotiCjC6aHK"
      },
      "outputs": [],
      "source": [
        "X = df.drop('loan_status', axis=1)\n",
        "y = df['loan_status']\n",
        "\n",
        "def map_to_good_bad_loan(y):\n",
        "    good_loans = ['Fully Paid', 'Current']\n",
        "    bad_loans = ['Charged Off', 'Default', 'Does not meet the credit policy. Status:Charged Off',\n",
        "                 'Does not meet the credit policy. Status:Fully Paid', 'In Grace Period',\n",
        "                 'Late (16-30 days)', 'Late (31-120 days)']\n",
        "    return y.apply(lambda x: 'Good Loan' if x in good_loans else 'Bad Loan')\n",
        "\n",
        "y = map_to_good_bad_loan(y)\n",
        "\n",
        "label_encoder = LabelEncoder()\n",
        "\n",
        "for col in X.select_dtypes(include=['object']).columns:\n",
        "    X[col] = label_encoder.fit_transform(X[col])\n",
        "\n",
        "X_train, X_test, y_train, y_test = train_test_split(X, y, test_size=0.2, random_state=42)"
      ]
    },
    {
      "cell_type": "markdown",
      "metadata": {
        "id": "pjFhyeygnHcu"
      },
      "source": [
        "# Modelling"
      ]
    },
    {
      "cell_type": "markdown",
      "metadata": {
        "id": "m76vITkHijtC"
      },
      "source": [
        "## Model Logistic Regression"
      ]
    },
    {
      "cell_type": "code",
      "execution_count": null,
      "metadata": {
        "id": "nUvWm_rxnAZO"
      },
      "outputs": [],
      "source": [
        "log_reg = LogisticRegression(random_state=42, max_iter=1000)\n",
        "log_reg.fit(X_train, y_train)\n",
        "y_pred_lr = log_reg.predict(X_test)"
      ]
    },
    {
      "cell_type": "markdown",
      "metadata": {
        "id": "lwg-tWv2ipjX"
      },
      "source": [
        "## Model Random Forest"
      ]
    },
    {
      "cell_type": "code",
      "execution_count": null,
      "metadata": {
        "id": "2msmGk19vcv0"
      },
      "outputs": [],
      "source": [
        "rf_clf = RandomForestClassifier(random_state=42, n_estimators=100)  # Default 100 estimators for better performance\n",
        "rf_clf.fit(X_train, y_train)\n",
        "y_pred_rf = rf_clf.predict(X_test)"
      ]
    },
    {
      "cell_type": "markdown",
      "metadata": {
        "id": "KTLRwq4q2wAS"
      },
      "source": [
        "# Hyperparameter Tuning"
      ]
    },
    {
      "cell_type": "markdown",
      "metadata": {
        "id": "OOexMc0tInz0"
      },
      "source": [
        "# Evaluasi Model"
      ]
    },
    {
      "cell_type": "code",
      "execution_count": null,
      "metadata": {
        "id": "Rpf1vOrB7q7i"
      },
      "outputs": [],
      "source": [
        "def evaluate_model_visual(y_test, y_pred, model_name, model_proba=None):\n",
        "    print(\"=\" * 50)\n",
        "    print(f\"Evaluating Model: {model_name}\")\n",
        "    print(\"=\" * 50)\n",
        "\n",
        "    accuracy = accuracy_score(y_test, y_pred)\n",
        "    precision = precision_score(y_test, y_pred, average='weighted', zero_division=1)\n",
        "    recall = recall_score(y_test, y_pred, average='weighted', zero_division=1)\n",
        "    f1 = f1_score(y_test, y_pred, average='weighted', zero_division=1)\n",
        "\n",
        "    try:\n",
        "        if len(set(y_test)) > 2 and model_proba is not None:\n",
        "            roc_auc = roc_auc_score(y_test, model_proba, multi_class=\"ovr\", average=\"weighted\")\n",
        "        else:\n",
        "            roc_auc = roc_auc_score(y_test, model_proba[:, 1])\n",
        "    except ValueError:\n",
        "        roc_auc = \"Not Applicable (Single Class Detected)\"\n",
        "    except Exception as e:\n",
        "        print(f\"Error calculating ROC AUC: {e}\")\n",
        "        roc_auc = \"Error in ROC AUC calculation\"\n",
        "\n",
        "    print(f\"Accuracy       : {accuracy:.4f}\")\n",
        "    print(f\"Precision      : {precision:.4f}\")\n",
        "    print(f\"Recall         : {recall:.4f}\")\n",
        "    print(f\"F1 Score       : {f1:.4f}\")\n",
        "    print(f\"ROC AUC Score  : {roc_auc}\\n\")\n",
        "\n",
        "    print(\"Classification Report:\")\n",
        "    print(classification_report(y_test, y_pred, zero_division=1))\n",
        "\n",
        "    cm = confusion_matrix(y_test, y_pred)\n",
        "    plt.figure(figsize=(6, 4))\n",
        "    sns.heatmap(cm, annot=True, fmt=\"d\", cmap=\"Blues\", xticklabels=np.unique(y_test), yticklabels=np.unique(y_test))\n",
        "    plt.xlabel('Predicted')\n",
        "    plt.ylabel('Actual')\n",
        "    plt.title(f'Confusion Matrix - {model_name}')\n",
        "    plt.show()"
      ]
    },
    {
      "cell_type": "markdown",
      "metadata": {
        "id": "xsVADJLkiveI"
      },
      "source": [
        "## Evaluasi Model Logistic Regression"
      ]
    },
    {
      "cell_type": "code",
      "execution_count": 57,
      "metadata": {
        "id": "fYqSS_Oc7vL9",
        "colab": {
          "base_uri": "https://localhost:8080/",
          "height": 740
        },
        "outputId": "84ca2a46-e6ff-4b2c-de43-d5f4cbe09d79"
      },
      "outputs": [
        {
          "output_type": "stream",
          "name": "stdout",
          "text": [
            "==================================================\n",
            "Evaluating Model: Logistic Regression\n",
            "==================================================\n",
            "Accuracy       : 0.9322\n",
            "Precision      : 0.9337\n",
            "Recall         : 0.9322\n",
            "F1 Score       : 0.9218\n",
            "ROC AUC Score  : 0.9024796853889518\n",
            "\n",
            "Classification Report:\n",
            "              precision    recall  f1-score   support\n",
            "\n",
            "    Bad Loan       0.95      0.47      0.63     11457\n",
            "   Good Loan       0.93      1.00      0.96     81800\n",
            "\n",
            "    accuracy                           0.93     93257\n",
            "   macro avg       0.94      0.73      0.80     93257\n",
            "weighted avg       0.93      0.93      0.92     93257\n",
            "\n"
          ]
        },
        {
          "output_type": "display_data",
          "data": {
            "text/plain": [
              "<Figure size 600x400 with 2 Axes>"
            ],
            "image/png": "[encoded data removed]"
          },
          "metadata": {}
        }
      ],
      "source": [
        "evaluate_model_visual(y_test, y_pred_lr, \"Logistic Regression\", model_proba=log_reg.predict_proba(X_test))"
      ]
    },
    {
      "cell_type": "markdown",
      "metadata": {
        "id": "3DlCt6o3i1Ca"
      },
      "source": [
        "## Evaluasi Model Random Forest"
      ]
    },
    {
      "cell_type": "code",
      "execution_count": 58,
      "metadata": {
        "id": "7K0KODqqCRBy",
        "colab": {
          "base_uri": "https://localhost:8080/",
          "height": 740
        },
        "outputId": "dd452cef-8db9-412a-f8c6-8f6562fafe9a"
      },
      "outputs": [
        {
          "output_type": "stream",
          "name": "stdout",
          "text": [
            "==================================================\n",
            "Evaluating Model: Random Forest\n",
            "==================================================\n",
            "Accuracy       : 0.9833\n",
            "Precision      : 0.9835\n",
            "Recall         : 0.9833\n",
            "F1 Score       : 0.9828\n",
            "ROC AUC Score  : 0.9860925128144719\n",
            "\n",
            "Classification Report:\n",
            "              precision    recall  f1-score   support\n",
            "\n",
            "    Bad Loan       1.00      0.87      0.93     11457\n",
            "   Good Loan       0.98      1.00      0.99     81800\n",
            "\n",
            "    accuracy                           0.98     93257\n",
            "   macro avg       0.99      0.93      0.96     93257\n",
            "weighted avg       0.98      0.98      0.98     93257\n",
            "\n"
          ]
        },
        {
          "output_type": "display_data",
          "data": {
            "text/plain": [
              "<Figure size 600x400 with 2 Axes>"
            ],
            "image/png": "[encoded data removed]"
          },
          "metadata": {}
        }
      ],
      "source": [
        "evaluate_model_visual(y_test, y_pred_rf, \"Random Forest\", model_proba=rf_clf.predict_proba(X_test))"
      ]
    },
    {
      "cell_type": "markdown",
      "metadata": {
        "id": "86SW79NWi5rv"
      },
      "source": [
        "## Perbandingan Algoritma yang digunakan"
      ]
    },
    {
      "cell_type": "code",
      "execution_count": 59,
      "metadata": {
        "id": "iVCDPJm1GPno",
        "colab": {
          "base_uri": "https://localhost:8080/",
          "height": 564
        },
        "outputId": "f472a114-1451-44de-ce1d-655daa66f40b"
      },
      "outputs": [
        {
          "output_type": "display_data",
          "data": {
            "text/plain": [
              "<Figure size 1000x600 with 1 Axes>"
            ],
            "image/png": "[encoded data removed]"
          },
          "metadata": {}
        }
      ],
      "source": [
        "def get_model_metrics(y_test, y_pred, model_name):\n",
        "    accuracy = accuracy_score(y_test, y_pred)\n",
        "    precision = precision_score(y_test, y_pred, average='weighted', zero_division=1)\n",
        "    recall = recall_score(y_test, y_pred, average='weighted', zero_division=1)\n",
        "    f1 = f1_score(y_test, y_pred, average='weighted', zero_division=1)\n",
        "\n",
        "    return {\n",
        "        'Model': model_name,\n",
        "        'Accuracy': accuracy,\n",
        "        'Precision': precision,\n",
        "        'Recall': recall,\n",
        "        'F1 Score': f1\n",
        "    }\n",
        "\n",
        "log_reg_metrics = get_model_metrics(y_test, y_pred_lr, 'Logistic Regression')\n",
        "rf_metrics = get_model_metrics(y_test, y_pred_rf, 'Random Forest')\n",
        "\n",
        "metrics_df = pd.DataFrame([log_reg_metrics, rf_metrics])\n",
        "\n",
        "ax = metrics_df.set_index('Model').plot(kind='bar', figsize=(10, 6), color=['skyblue', 'lightgreen'])\n",
        "\n",
        "for p in ax.patches:\n",
        "    ax.annotate(f'{p.get_height():.2f}', (p.get_x() + p.get_width() / 2., p.get_height()),\n",
        "                ha='center', va='center', fontsize=10, color='black', xytext=(0, 5),\n",
        "                textcoords='offset points')\n",
        "\n",
        "plt.title('Perbandingan Model: Logistic Regression vs Random Forest')\n",
        "plt.ylabel('Score')\n",
        "plt.xticks(rotation=0)\n",
        "plt.show()"
      ]
    },
    {
      "cell_type": "markdown",
      "metadata": {
        "id": "q0V_3xApi_Zy"
      },
      "source": [
        "# Kesimpulan"
      ]
    },
    {
      "cell_type": "markdown",
      "source": [
        "Model Random Forest menunjukkan kinerja yang lebih baik dibandingkan dengan Logistic Regression. Dengan akurasi 98.33%, Precision 98.35%, dan Recall 98.33%, model ini mampu memprediksi dengan sangat baik, terutama dalam mengidentifikasi kategori \"Good Loan\". Sementara itu, Logistic Regression memiliki akurasi 93.22% dengan Precision 93.37% dan Recall 93.22%, namun performanya lebih rendah terutama dalam mengidentifikasi kategori \"Bad Loan\". Secara keseluruhan, Random Forest memberikan hasil yang lebih optimal dalam hal akurasi, precision, dan recall."
      ],
      "metadata": {
        "id": "CXNgu6RbLs4D"
      }
    }
  ],
  "metadata": {
    "accelerator": "GPU",
    "colab": {
      "gpuType": "T4",
      "provenance": []
    },
    "kernelspec": {
      "display_name": "Python 3",
      "name": "python3"
    },
    "language_info": {
      "name": "python"
    }
  },
  "nbformat": 4,
  "nbformat_minor": 0
}